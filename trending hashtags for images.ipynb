{
 "cells": [
  {
   "cell_type": "markdown",
   "id": "6108efbd",
   "metadata": {},
   "source": [
    "# trending hashtags for images"
   ]
  },
  {
   "cell_type": "markdown",
   "id": "61dcf961",
   "metadata": {},
   "source": [
    "hastagas : (https://www.instagram.com/explore/tags/sandbar/)\n",
    "    \n",
    "HASHTAG GENERATOR : (https://inflact.com/tools/instagram-hashtag-generator/)"
   ]
  },
  {
   "cell_type": "code",
   "execution_count": 5,
   "id": "02d61d12",
   "metadata": {},
   "outputs": [],
   "source": [
    "import numpy as np\n",
    "import pandas as pd\n",
    "from tensorflow.keras.applications.resnet50 import ResNet50, preprocess_input\n",
    "from tensorflow.keras.preprocessing import image\n",
    "\n",
    "# Load the pre-trained ResNet50 model\n",
    "model = ResNet50(weights='imagenet')\n",
    "\n",
    "# Define a function to predict the top K imagenet labels for an input image\n",
    "def predict_labels(image_path, K=10):\n",
    "    # Load and preprocess the image\n",
    "    img = image.load_img(image_path, target_size=(224, 224))\n",
    "    x = image.img_to_array(img)\n",
    "    x = np.expand_dims(x, axis=0)\n",
    "    x = preprocess_input(x)\n",
    "\n",
    "    # Use the ResNet50 model to predict the image's class probabilities\n",
    "    preds = model.predict(x)\n",
    "    print(preds.shape)\n",
    "   # print(preds)\n",
    "\n",
    "    # Decode the predictions into a list of imagenet labels and their probabilities\n",
    "    imagenet_labels = pd.read_csv(\"https://storage.googleapis.com/download.tensorflow.org/data/ImageNetLabels.txt\", header=None)[0]\n",
    "    top_preds = np.argsort(-preds, axis=1)[0][:K] # # Axis along which to sort\n",
    "    print('top 10 indexes are',top_preds)\n",
    "    print()\n",
    "    labels = [imagenet_labels[idx] for idx in top_preds]\n",
    "    probs = [preds[0][idx] for idx in top_preds]\n",
    "    return labels, probs\n",
    "\n",
    "    \n",
    "# Define a function to generate hashtags for an input image\n",
    "def generate_hashtags(image_path, K=10):\n",
    "    # Use the predict_labels function to get the top imagenet labels for the image\n",
    "    labels, probs = predict_labels(image_path, K)\n",
    "\n",
    "    # Convert the imagenet labels to hashtags and return the top K hashtags\n",
    "    hashtags = [f\"#{label.replace(' ','').replace('-','')}\" for label in labels]\n",
    "    return hashtags[:K], probs\n",
    "\n"
   ]
  },
  {
   "cell_type": "code",
   "execution_count": 11,
   "id": "67ced723",
   "metadata": {},
   "outputs": [
    {
     "name": "stdout",
     "output_type": "stream",
     "text": [
      "1/1 [==============================] - 0s 120ms/step\n",
      "(1, 1000)\n",
      "top 10 indexes are [792 463 796 855 447 968 514 470 541 899]\n",
      "\n",
      "(['#shoppingcart', '#broom', '#ski', '#theatercurtain', '#binder', '#espresso', '#cornet', '#caldron', '#drillingplatform', '#waterbottle'], [0.17709234, 0.13532585, 0.11372058, 0.04842068, 0.039625384, 0.027808161, 0.01604844, 0.015046145, 0.013765015, 0.013372133])\n"
     ]
    }
   ],
   "source": [
    "hashtags = generate_hashtags(\"C:/Users/pramod/Desktop/ANN/TASK/image1.png\", K=10)\n",
    "print(hashtags)"
   ]
  },
  {
   "cell_type": "code",
   "execution_count": 12,
   "id": "acbac28a",
   "metadata": {},
   "outputs": [
    {
     "data": {
      "text/plain": [
       "('shopping cart', 'broom')"
      ]
     },
     "execution_count": 12,
     "metadata": {},
     "output_type": "execute_result"
    }
   ],
   "source": [
    "imagenet_labels[792], imagenet_labels[463]"
   ]
  },
  {
   "cell_type": "code",
   "execution_count": 10,
   "id": "7de57c70",
   "metadata": {},
   "outputs": [
    {
     "data": {
      "text/plain": [
       "'brass'"
      ]
     },
     "execution_count": 10,
     "metadata": {},
     "output_type": "execute_result"
    }
   ],
   "source": [
    "imagenet_labels[459]"
   ]
  },
  {
   "cell_type": "code",
   "execution_count": 8,
   "id": "bf1c180c",
   "metadata": {},
   "outputs": [
    {
     "name": "stdout",
     "output_type": "stream",
     "text": [
      "(1001,)\n"
     ]
    },
    {
     "data": {
      "text/plain": [
       "0           background\n",
       "1                tench\n",
       "2             goldfish\n",
       "3    great white shark\n",
       "4          tiger shark\n",
       "5           hammerhead\n",
       "6         electric ray\n",
       "7             stingray\n",
       "8                 cock\n",
       "9                  hen\n",
       "Name: 0, dtype: object"
      ]
     },
     "execution_count": 8,
     "metadata": {},
     "output_type": "execute_result"
    }
   ],
   "source": [
    "imagenet_labels = pd.read_csv(\"https://storage.googleapis.com/download.tensorflow.org/data/ImageNetLabels.txt\", header=None)[0]\n",
    "print(imagenet_labels.shape)\n",
    "imagenet_labels.head(10)\n"
   ]
  },
  {
   "cell_type": "code",
   "execution_count": 15,
   "id": "a7e3e790",
   "metadata": {},
   "outputs": [
    {
     "data": {
      "text/plain": [
       "990                  hip\n",
       "991              buckeye\n",
       "992         coral fungus\n",
       "993               agaric\n",
       "994            gyromitra\n",
       "995            stinkhorn\n",
       "996            earthstar\n",
       "997     hen-of-the-woods\n",
       "998               bolete\n",
       "999                  ear\n",
       "1000       toilet tissue\n",
       "Name: 0, dtype: object"
      ]
     },
     "execution_count": 15,
     "metadata": {},
     "output_type": "execute_result"
    }
   ],
   "source": [
    "imagenet_labels[990:]"
   ]
  },
  {
   "cell_type": "code",
   "execution_count": null,
   "id": "5a644fcf",
   "metadata": {},
   "outputs": [],
   "source": []
  },
  {
   "cell_type": "code",
   "execution_count": null,
   "id": "bb123f80",
   "metadata": {},
   "outputs": [],
   "source": []
  },
  {
   "cell_type": "code",
   "execution_count": 27,
   "id": "17b390a1",
   "metadata": {},
   "outputs": [
    {
     "data": {
      "text/plain": [
       "0.6002247280000002"
      ]
     },
     "execution_count": 27,
     "metadata": {},
     "output_type": "execute_result"
    }
   ],
   "source": [
    "sum([0.17709234, 0.13532585, 0.11372058, 0.04842068, 0.039625384, 0.027808161, 0.01604844, 0.015046145, 0.013765015, 0.013372133])"
   ]
  },
  {
   "cell_type": "code",
   "execution_count": null,
   "id": "51b0ceec",
   "metadata": {},
   "outputs": [],
   "source": [
    "#influencermarketinghub"
   ]
  },
  {
   "cell_type": "code",
   "execution_count": 13,
   "id": "a722d80b",
   "metadata": {},
   "outputs": [
    {
     "name": "stderr",
     "output_type": "stream",
     "text": [
      "2023-04-19 19:11:49.275 \n",
      "  \u001b[33m\u001b[1mWarning:\u001b[0m to view this Streamlit app on a browser, run it with the following\n",
      "  command:\n",
      "\n",
      "    streamlit run C:\\Users\\pramod\\AppData\\Roaming\\Python\\Python310\\site-packages\\ipykernel_launcher.py [ARGUMENTS]\n"
     ]
    }
   ],
   "source": [
    "import streamlit as st\n",
    "import numpy as np\n",
    "import pandas as pd\n",
    "from PIL import Image\n",
    "\n",
    "from tensorflow.keras.applications.resnet50 import ResNet50, preprocess_input\n",
    "from tensorflow.keras.preprocessing import image\n",
    "\n",
    "# Load the pre-trained ResNet50 model\n",
    "model = ResNet50(weights='imagenet')\n",
    "\n",
    "# Define a function to predict the top K imagenet labels for an input image\n",
    "def predict_labels(image_path, K=10):\n",
    "    # Load and preprocess the image\n",
    "    img = image.load_img(image_path, target_size=(224, 224))\n",
    "    x = image.img_to_array(img)\n",
    "    x = np.expand_dims(x, axis=0)\n",
    "    x = preprocess_input(x)\n",
    "\n",
    "    # Use the ResNet50 model to predict the image's class probabilities\n",
    "    preds = model.predict(x)\n",
    "\n",
    "    # Decode the predictions into a list of imagenet labels and their probabilities\n",
    "    imagenet_labels = pd.read_csv(\"https://storage.googleapis.com/download.tensorflow.org/data/ImageNetLabels.txt\", header=None)[0]\n",
    "    top_preds = np.argsort(-preds, axis=1)[0][:K] # Axis along which to sort\n",
    "    labels = [imagenet_labels[idx] for idx in top_preds]\n",
    "    probs = [preds[0][idx] for idx in top_preds]\n",
    "    return labels, probs\n",
    "\n",
    "# Define a function to generate hashtags for an input image\n",
    "def generate_hashtags(image_path, K=10):\n",
    "    # Use the predict_labels function to get the top imagenet labels for the image\n",
    "    labels, _ = predict_labels(image_path, K)\n",
    "\n",
    "    # Convert the imagenet labels to hashtags and return the top K hashtags\n",
    "    hashtags = [f\"#{label.replace(' ', '')}\" for label in labels]\n",
    "    return hashtags[:K]\n",
    "\n",
    "# Define the Streamlit app layout and functionality \n",
    "def app():\n",
    "    st.title(\"Image Hashtag Generator\")\n",
    "\n",
    "    #target_size = (160, 160)\n",
    "    # Upload the image file\n",
    "    uploaded_file = st.file_uploader(\"Upload an image\", type=[\"jpg\", \"jpeg\", \"png\"])\n",
    "\n",
    "    # If an image is uploaded, generate hashtags for it\n",
    "    if uploaded_file is not None:\n",
    "        # Display the uploaded image\n",
    "        image = Image.open(uploaded_file)\n",
    "        #image = image.resize(target_size)\n",
    "        st.image(image, caption=\"Uploaded image\", use_column_width=True)\n",
    "\n",
    "        # Generate hashtags for the image\n",
    "        image_path = \"uploaded_image.jpg\"\n",
    "        with open(image_path, \"wb\") as f:\n",
    "            f.write(uploaded_file.getbuffer())\n",
    "        hashtags = generate_hashtags(image_path, K=10)\n",
    "\n",
    "        # Display the hashtags\n",
    "        st.subheader(\"Generated Hashtags\")\n",
    "        for hashtag in hashtags:\n",
    "            st.write(hashtag)\n",
    "\n",
    "# Run the Streamlit app\n",
    "if __name__ == \"__main__\":\n",
    "    app()\n"
   ]
  },
  {
   "cell_type": "code",
   "execution_count": 77,
   "id": "2ed9a941",
   "metadata": {},
   "outputs": [
    {
     "name": "stdout",
     "output_type": "stream",
     "text": [
      "[[ 0  3 14  5]\n",
      " [ 2 10  5  6]]\n",
      "\n",
      "[[0 0 1 0]\n",
      " [1 1 0 1]]\n",
      "\n",
      "[[0 1 3 2]\n",
      " [0 2 3 1]]\n"
     ]
    }
   ],
   "source": [
    "\n",
    "x = np.array([[0, 3,14,5], [2, 10,5,6]])\n",
    "print(x)\n",
    "\n",
    "print()\n",
    "ind = np.argsort(x, axis=0)  # sorts along first axis (down)\n",
    "print(ind)\n",
    "print()\n",
    "ind = np.argsort(x, axis=1)  # sorts along first axis (down)\n",
    "print(ind)"
   ]
  },
  {
   "cell_type": "code",
   "execution_count": 81,
   "id": "90471641",
   "metadata": {},
   "outputs": [
    {
     "name": "stdout",
     "output_type": "stream",
     "text": [
      "[ 0  3 14  5  2  3  4  5  6  7  8]\n",
      "(11,)\n",
      "\n",
      "[[0 0 1 0 0 0 0 0 0 0 0]\n",
      " [1 1 0 1 1 1 1 1 1 1 1]]\n",
      "\n",
      "[[ 0  4  1  5  6  3  7  8  9 10  2]\n",
      " [ 0  4  2  5  3  6  7  9  8 10  1]]\n"
     ]
    }
   ],
   "source": [
    "\n",
    "x = np.array([[0, 3,14,5,2,3,4,5,6,7,8], [2, 10,5,6,4,5,6,7,8,7,8]])\n",
    "print(x[0])\n",
    "print(x[0].shape)\n",
    "print()\n",
    "ind = np.argsort(x, axis=0)  # sorts along first axis (down)\n",
    "print(ind)\n",
    "print()\n",
    "ind = np.argsort(x, axis=1)  # sorts along first axis (down)\n",
    "print(ind)"
   ]
  },
  {
   "cell_type": "code",
   "execution_count": 103,
   "id": "cdf6f785",
   "metadata": {},
   "outputs": [
    {
     "name": "stdout",
     "output_type": "stream",
     "text": [
      "[[ 0  3 14  5  2  3  4  5  6  7  8]]\n",
      "(11,)\n",
      "\n",
      "[[0 0 0 0 0 0 0 0 0 0 0]]\n",
      "\n",
      "[[ 0  4  1  5  6  3  7  8  9 10  2]]\n"
     ]
    }
   ],
   "source": [
    "x = np.array([[0, 3,14,5,2,3,4,5,6,7,8]])\n",
    "print(x[:5])\n",
    "print(x[0].shape)\n",
    "print()\n",
    "ind = np.argsort(x, axis=0)  # sorts along first axis (down)\n",
    "print(ind)\n",
    "print()\n",
    "ind = np.argsort(x, axis=1)  # sorts along first axis (down)\n",
    "print(ind)"
   ]
  },
  {
   "cell_type": "code",
   "execution_count": 104,
   "id": "836cee1c",
   "metadata": {},
   "outputs": [
    {
     "name": "stdout",
     "output_type": "stream",
     "text": [
      "[[ 0  3 14  5  2  3  4  5  6  7  8]\n",
      " [ 0  3 14  5  2  3  4  5  6  7  8]]\n"
     ]
    }
   ],
   "source": [
    "x = np.array([[0, 3,14,5,2,3,4,5,6,7,8], [0, 3,14,5,2,3,4,5,6,7,8]])\n",
    "print(x[:5])"
   ]
  },
  {
   "cell_type": "code",
   "execution_count": 108,
   "id": "01b787db",
   "metadata": {},
   "outputs": [
    {
     "name": "stdout",
     "output_type": "stream",
     "text": [
      "[ 0  3 14  5  2]\n"
     ]
    }
   ],
   "source": [
    "x = np.array([[0, 3,14,5,2,3,4,5,6,7,8]])\n",
    "print(x[0][:5])"
   ]
  },
  {
   "cell_type": "code",
   "execution_count": null,
   "id": "7543a9fa",
   "metadata": {},
   "outputs": [],
   "source": []
  }
 ],
 "metadata": {
  "kernelspec": {
   "display_name": "Python 3 (ipykernel)",
   "language": "python",
   "name": "python3"
  },
  "language_info": {
   "codemirror_mode": {
    "name": "ipython",
    "version": 3
   },
   "file_extension": ".py",
   "mimetype": "text/x-python",
   "name": "python",
   "nbconvert_exporter": "python",
   "pygments_lexer": "ipython3",
   "version": "3.10.9"
  }
 },
 "nbformat": 4,
 "nbformat_minor": 5
}
